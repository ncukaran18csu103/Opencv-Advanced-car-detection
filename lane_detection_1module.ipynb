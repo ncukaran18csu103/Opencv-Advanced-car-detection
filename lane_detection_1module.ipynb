{
 "cells": [
  {
   "cell_type": "code",
   "execution_count": 2,
   "metadata": {},
   "outputs": [
    {
     "name": "stdout",
     "output_type": "stream",
     "text": [
      "end\n"
     ]
    }
   ],
   "source": [
    "import cv2\n",
    "import numpy as np\n",
    "import time \n",
    "\n",
    "subtractor = cv2.createBackgroundSubtractorMOG2(history=10, varThreshold=500, detectShadows=False)\n",
    "\n",
    "def canny(img):\n",
    "    if img is None:\n",
    "        cap.release()\n",
    "        cv2.destroyAllWindows()\n",
    "        exit()\n",
    "    gray = cv2.cvtColor(img, cv2.COLOR_BGR2GRAY)\n",
    "    kernel = 5\n",
    "    blur = cv2.GaussianBlur(gray,(kernel, kernel),1)\n",
    "    canny = cv2.Canny(gray, 50, 10)\n",
    "    return canny\n",
    "\n",
    "def region_of_interest(canny):\n",
    "    height = canny.shape[0]\n",
    "    width = canny.shape[1]\n",
    "    mask = np.zeros_like(canny)\n",
    "    triangle = np.array([[\n",
    "    (200, height),\n",
    "    (800, 350),\n",
    "    (1200, height),]], np.int32)\n",
    "    cv2.fillPoly(mask, triangle, 100)\n",
    "    masked_image = cv2.bitwise_and(canny, mask)\n",
    "    return masked_image\n",
    "\n",
    "def houghLines(cropped_canny):\n",
    "    return cv2.HoughLinesP(cropped_canny, 2, np.pi/180, 100, \n",
    "        np.array([]), minLineLength=40, maxLineGap=5)\n",
    "\n",
    "def addWeighted(frame, line_image):\n",
    "    return cv2.addWeighted(frame, 0.8, line_image, 1, 1)\n",
    " \n",
    "def display_lines(img,lines):\n",
    "    line_image = np.zeros_like(img)\n",
    "    if lines is not None:\n",
    "        for line in lines:\n",
    "            for x1, y1, x2, y2 in line:\n",
    "                cv2.line(line_image,(x1,y1),(x2,y2),(255,0,0),20)\n",
    "                cv2.line(img,(x2,y2),(x1,y1),(0,0,0),10)\n",
    "                cv2.circle(img,(x1,y1), 20, (0,0,0), -1)\n",
    "                cv2.circle(img,(x2,y2), 20,  (0,0,0), -1)\n",
    "                cv2.circle(img,(x1,y2), 20,  (0,0,0), -1)\n",
    "                pts = np.array([[x1,x2],[x2,y2],[x1,y1],[x1,y2]], np.int32)\n",
    "                pts = pts.reshape((-1,1,2))\n",
    "                cv2.polylines(img,[pts],True,(0,0,0),10)\n",
    "                #cv2.fillPoly(img, pts, (0,0,0)[[ shift[ offset]]])\n",
    "                a3 = np.array( [[[x1,y1],[x2,y2],[x2,y2],[x2+x1/2,y2+y1/2]]], dtype=np.int32 )\n",
    "                a31 = np.array( [[[x1,y1],[x2,y2],[y1,y1],[x1,x2]]], dtype=np.int32 )\n",
    "                cv2.fillPoly(img, a3, (255,242,253))\n",
    "                cv2.fillPoly(img, a31, (255,242,253))\n",
    "                cv2.putText(img,'Starting lane ',(x1,y1),cv2.FONT_HERSHEY_PLAIN,2,(0,0,0),2,cv2.LINE_AA)\n",
    "                cv2.putText(img,'End lane ',(x2,y2),cv2.FONT_HERSHEY_PLAIN,2,(0,0,0),2,cv2.LINE_AA)\n",
    "    return line_image\n",
    " \n",
    "def make_points(image, line):\n",
    "    slope, intercept = line\n",
    "    y1 = int(image.shape[0])\n",
    "    y2 = int(y1*3.0/5)      \n",
    "    x1 = int((y1 - intercept)/slope)\n",
    "    x2 = int((y2 - intercept)/slope)\n",
    "    return [[x1, y1, x2, y2]]\n",
    " \n",
    "def average_slope_intercept(image, lines):\n",
    "    left_fit    = []\n",
    "    right_fit   = []\n",
    "    if lines is None:\n",
    "        return None\n",
    "    for line in lines:\n",
    "        for x1, y1, x2, y2 in line:\n",
    "            fit = np.polyfit((x1,x2), (y1,y2), 1)\n",
    "            slope = fit[0]\n",
    "            intercept = fit[1]\n",
    "            if slope < 0: \n",
    "                left_fit.append((slope, intercept))\n",
    "            else:\n",
    "                right_fit.append((slope, intercept))\n",
    "    left_fit_average  = np.average(left_fit, axis=0)\n",
    "    right_fit_average = np.average(right_fit, axis=0)\n",
    "    left_line  = make_points(image, left_fit_average)\n",
    "    right_line = make_points(image, right_fit_average)\n",
    "    averaged_lines = [left_line, right_line]\n",
    "    return averaged_lines\n",
    "car_cascade = cv2.CascadeClassifier(cv2.data.haarcascades+\"cas2.xml\")\n",
    "cap = cv2.VideoCapture(\"test1.mp4\")\n",
    "while(cap.isOpened()):\n",
    "    ret, frame = cap.read()\n",
    "    gray = cv2.cvtColor(frame, cv2.COLOR_BGR2GRAY)\n",
    "        \n",
    "    \n",
    "    mask = subtractor.apply(frame)\n",
    "    \n",
    "    cv2.imshow(\"mask\", mask)\n",
    "    first_frame=0\n",
    "    next_frame=0\n",
    "    next_frame=time.time()\n",
    "    fps=float(1/(next_frame-first_frame))\n",
    "    first_frame=next_frame\n",
    "        \n",
    "    canny_image = canny(frame)\n",
    "    cropped_canny = region_of_interest(canny_image)\n",
    "    cv2.imshow(\"cropped_canny\",cropped_canny)\n",
    "    cv2.imshow(\"cropped\",canny_image)\n",
    "    \n",
    "    lines = houghLines(cropped_canny)\n",
    "    averaged_lines = average_slope_intercept(frame, lines)\n",
    "    line_image = display_lines(frame, averaged_lines)\n",
    "    combo_image = addWeighted(frame, line_image)\n",
    "    cv2.imshow(\"result1\", line_image)\n",
    "    window_name = 'Image'\n",
    "\n",
    "    # font \n",
    "    font = cv2.FONT_HERSHEY_SIMPLEX \n",
    "\n",
    "    # org \n",
    "    org = (600,550) \n",
    "\n",
    "    # fontScale \n",
    "    fontScale = 1\n",
    "    fontScale1 = 0.6\n",
    "    # Blue color in BGR \n",
    "    color = (0,0,0) \n",
    "\n",
    "\n",
    "\n",
    "    # Line thickness of 2 px \n",
    "    thickness = 2\n",
    "      # Detects cars of different sizes in the input image \n",
    "    '''cars = car_cascade.detectMultiScale(gray)\n",
    "    for (x,y,w,h) in cars:\n",
    "        cv2.rectangle(img,(x,y),(x+w+5,y+h+5),(0,0,255),3)\n",
    "    cv2.imshow('Car Detector', combo_image)\n",
    "    '''\n",
    "    combo_image= cv2.putText(combo_image,'***SMART LANE DETECTOR*** ',(330,50),cv2.FONT_HERSHEY_PLAIN,2,(0,0,255),2,cv2.LINE_AA)\n",
    "    combo_image= cv2.putText(combo_image,'[PRESS A tO EXIT] ',(370,100),cv2.FONT_HERSHEY_PLAIN,2,(0,0,255),0,cv2.LINE_AA)\n",
    "\n",
    "    combo_image= cv2.putText(combo_image,'FPS',(5,100),cv2.FONT_HERSHEY_PLAIN,2,(255,120,60),2,cv2.LINE_AA)\n",
    "    combo_image= cv2.putText(combo_image,str(fps),(10,150),cv2.FONT_HERSHEY_PLAIN,2,(255,120,60),2,cv2.LINE_AA)\n",
    "    #combo_image = cv2.putText(combo_image, '[Far Field]', (700,396),font,fontScale, color, thickness, cv2.LINE_AA) \n",
    "    combo_image = cv2.putText(combo_image, '[Near Field]', (700,656),font,fontScale, color, thickness, cv2.LINE_AA) \n",
    "    combo_image = cv2.putText(combo_image, '<--LANE[region of intersest]-->', org,font,fontScale1, color, thickness, cv2.LINE_AA) \n",
    "    cv2.imshow(\"result\", combo_image)\n",
    "    #cv2.imshow(\"region for smart car\",combo_image[400:1000])\n",
    "\n",
    "    if cv2.waitKey(1) & 0xFF == ord('a'):\n",
    "        print('end')\n",
    "        break\n",
    "\n",
    "cap.release()\n",
    "cv2.destroyAllWindows()"
   ]
  },
  {
   "cell_type": "code",
   "execution_count": 14,
   "metadata": {},
   "outputs": [
    {
     "ename": "IndentationError",
     "evalue": "unindent does not match any outer indentation level (<tokenize>, line 135)",
     "output_type": "error",
     "traceback": [
      "\u001b[1;36m  File \u001b[1;32m\"<tokenize>\"\u001b[1;36m, line \u001b[1;32m135\u001b[0m\n\u001b[1;33m    def calculate_curvature(self, print_to_terminal=False):\u001b[0m\n\u001b[1;37m    ^\u001b[0m\n\u001b[1;31mIndentationError\u001b[0m\u001b[1;31m:\u001b[0m unindent does not match any outer indentation level\n"
     ]
    }
   ],
   "source": []
  },
  {
   "cell_type": "code",
   "execution_count": null,
   "metadata": {},
   "outputs": [],
   "source": []
  },
  {
   "cell_type": "code",
   "execution_count": null,
   "metadata": {},
   "outputs": [],
   "source": []
  },
  {
   "cell_type": "markdown",
   "metadata": {},
   "source": [
    " "
   ]
  },
  {
   "cell_type": "code",
   "execution_count": 46,
   "metadata": {},
   "outputs": [
    {
     "name": "stdout",
     "output_type": "stream",
     "text": [
      "5\n"
     ]
    }
   ],
   "source": [
    "print(func((-2,-1,1,2,3)))"
   ]
  },
  {
   "cell_type": "code",
   "execution_count": null,
   "metadata": {},
   "outputs": [],
   "source": []
  },
  {
   "cell_type": "code",
   "execution_count": 30,
   "metadata": {},
   "outputs": [
    {
     "ename": "SyntaxError",
     "evalue": "invalid syntax (<ipython-input-30-198a56bc07bb>, line 1)",
     "output_type": "error",
     "traceback": [
      "\u001b[1;36m  File \u001b[1;32m\"<ipython-input-30-198a56bc07bb>\"\u001b[1;36m, line \u001b[1;32m1\u001b[0m\n\u001b[1;33m    k=[print(i) for i in my_string: if i not in \"aieou\"]\u001b[0m\n\u001b[1;37m                                  ^\u001b[0m\n\u001b[1;31mSyntaxError\u001b[0m\u001b[1;31m:\u001b[0m invalid syntax\n"
     ]
    }
   ],
   "source": [
    "k=[print(i) for i in my_string: if i not in \"aieou\"]"
   ]
  },
  {
   "cell_type": "code",
   "execution_count": 31,
   "metadata": {},
   "outputs": [],
   "source": [
    "a=564\n",
    "b='456'"
   ]
  },
  {
   "cell_type": "code",
   "execution_count": 32,
   "metadata": {},
   "outputs": [
    {
     "ename": "TypeError",
     "evalue": "unsupported operand type(s) for +: 'int' and 'str'",
     "output_type": "error",
     "traceback": [
      "\u001b[1;31m---------------------------------------------------------------------------\u001b[0m",
      "\u001b[1;31mTypeError\u001b[0m                                 Traceback (most recent call last)",
      "\u001b[1;32m<ipython-input-32-85111a3ab660>\u001b[0m in \u001b[0;36m<module>\u001b[1;34m\u001b[0m\n\u001b[1;32m----> 1\u001b[1;33m \u001b[0mprint\u001b[0m\u001b[1;33m(\u001b[0m\u001b[0ma\u001b[0m\u001b[1;33m+\u001b[0m\u001b[0mb\u001b[0m\u001b[1;33m)\u001b[0m\u001b[1;33m\u001b[0m\u001b[1;33m\u001b[0m\u001b[0m\n\u001b[0m",
      "\u001b[1;31mTypeError\u001b[0m: unsupported operand type(s) for +: 'int' and 'str'"
     ]
    }
   ],
   "source": [
    "print(a+b)"
   ]
  },
  {
   "cell_type": "code",
   "execution_count": 33,
   "metadata": {},
   "outputs": [],
   "source": [
    "import pandas  as pd"
   ]
  },
  {
   "cell_type": "code",
   "execution_count": null,
   "metadata": {},
   "outputs": [],
   "source": []
  },
  {
   "cell_type": "raw",
   "metadata": {},
   "source": []
  },
  {
   "cell_type": "code",
   "execution_count": null,
   "metadata": {},
   "outputs": [],
   "source": []
  },
  {
   "cell_type": "code",
   "execution_count": null,
   "metadata": {},
   "outputs": [],
   "source": []
  },
  {
   "cell_type": "code",
   "execution_count": null,
   "metadata": {},
   "outputs": [],
   "source": []
  },
  {
   "cell_type": "code",
   "execution_count": 31,
   "metadata": {},
   "outputs": [],
   "source": []
  },
  {
   "cell_type": "code",
   "execution_count": null,
   "metadata": {},
   "outputs": [],
   "source": []
  }
 ],
 "metadata": {
  "kernelspec": {
   "display_name": "Python 3",
   "language": "python",
   "name": "python3"
  },
  "language_info": {
   "codemirror_mode": {
    "name": "ipython",
    "version": 3
   },
   "file_extension": ".py",
   "mimetype": "text/x-python",
   "name": "python",
   "nbconvert_exporter": "python",
   "pygments_lexer": "ipython3",
   "version": "3.7.3"
  }
 },
 "nbformat": 4,
 "nbformat_minor": 2
}
